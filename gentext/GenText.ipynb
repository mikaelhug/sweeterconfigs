{
 "cells": [
  {
   "cell_type": "code",
   "execution_count": 8,
   "metadata": {},
   "outputs": [],
   "source": [
    "# pip3 install Pillow\n",
    "\n",
    "from PIL import Image\n",
    "from PIL import ImageFont\n",
    "from PIL import ImageDraw \n",
    "\n",
    "def create_wallpapers(start, start_img, imgdir, resolution, topics, font, font_size, color, align):\n",
    "    fontTyp = ImageFont.truetype(font, font_size)\n",
    "    imgdir.rstrip(\"/\")\n",
    "    defaut_img = \"%s/%s\" % (imgdir,start_img)\n",
    "    \n",
    "    for nr, topic in enumerate(topics):\n",
    "        topicStr = \"\"\n",
    "        output = \"%s/wallpaper%s.%s\" % (imgdir, nr+1, start_img.split(\".\")[1])\n",
    "        \n",
    "        for bs in topic:\n",
    "            topicStr = topicStr + bs + \"\\n\"\n",
    "            \n",
    "        img = Image.open(defaut_img)\n",
    "        draw = ImageDraw.Draw(img)\n",
    "        #draw.text((start[0], start[1]), topicStr, color, font=fontTyp)\n",
    "        draw.multiline_text((start[0], start[1]), topicStr, color, font=fontTyp, align=align)\n",
    "        img.save(output)\n"
   ]
  },
  {
   "cell_type": "code",
   "execution_count": 50,
   "metadata": {},
   "outputs": [],
   "source": [
    "## Artilleri ##\n",
    "imgdir = \"Artilleri\"\n",
    "resolution = [2560,1440] # not implemented\n",
    "font = \"Helvetica\"\n",
    "font_size = 40\n",
    "color = \"white\"\n",
    "start = [5, 30]\n",
    "align = \"center\"\n",
    "topics = [\n",
    "    \"GENERAL\",\n",
    "    \"VISION\",\n",
    "    \"TET\",\n",
    "    \"OLIN\",\n",
    "    \"SANSTAT\",\n",
    "    \"mFYSIK\",\n",
    "    \"EMBEDDED\",\n",
    "    \"MODSYS\"\n",
    "]\n",
    "\n",
    "create_wallpapers(start, imgdir, resolution, topics, font, font_size, color, align)"
   ]
  },
  {
   "cell_type": "code",
   "execution_count": 13,
   "metadata": {},
   "outputs": [],
   "source": [
    "## Akrell ##\n",
    "start_img = \"wallpaper.png\"\n",
    "imgdir = \"Akrell\"\n",
    "resolution = [2560,1600] # not implemented\n",
    "font = \"Helvetica\"\n",
    "font_size = 40\n",
    "color = \"black\"\n",
    "start = [8, 45]\n",
    "align = \"center\"\n",
    "topics = [\n",
    "    \"GENERAL\",\n",
    "    \"VISION\",\n",
    "    \"TET\",\n",
    "    \"OLIN\",\n",
    "    \"SANSTAT\",\n",
    "    \"mFYSIK\",\n",
    "    \"EMBEDDED\",\n",
    "    \"MODSYS\"\n",
    "]\n",
    "\n",
    "create_wallpapers(start, start_img, imgdir, resolution, topics, font, font_size, color, align)"
   ]
  },
  {
   "cell_type": "code",
   "execution_count": null,
   "metadata": {},
   "outputs": [],
   "source": []
  }
 ],
 "metadata": {
  "kernelspec": {
   "display_name": "Python 3",
   "language": "python",
   "name": "python3"
  },
  "language_info": {
   "codemirror_mode": {
    "name": "ipython",
    "version": 3
   },
   "file_extension": ".py",
   "mimetype": "text/x-python",
   "name": "python",
   "nbconvert_exporter": "python",
   "pygments_lexer": "ipython3",
   "version": "3.7.4"
  }
 },
 "nbformat": 4,
 "nbformat_minor": 4
}
